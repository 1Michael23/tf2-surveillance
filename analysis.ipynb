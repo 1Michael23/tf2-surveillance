{
 "cells": [
  {
   "cell_type": "code",
   "execution_count": 28,
   "metadata": {},
   "outputs": [],
   "source": [
    "import pandas as pd\n",
    "import sqlite3\n",
    "\n",
    "conn = sqlite3.connect('players.db')"
   ]
  },
  {
   "cell_type": "code",
   "execution_count": 29,
   "metadata": {},
   "outputs": [],
   "source": [
    "def format_duration(seconds):\n",
    "    hours, remainder = divmod(seconds, 3600)\n",
    "    minutes, seconds = divmod(remainder, 60)\n",
    "    return f\"{int(hours):02d}h {int(minutes):02d}m {int(seconds):02d}s\""
   ]
  },
  {
   "cell_type": "markdown",
   "metadata": {},
   "source": [
    "## TF2 Surveillance war room"
   ]
  },
  {
   "cell_type": "code",
   "execution_count": 24,
   "metadata": {},
   "outputs": [
    {
     "name": "stdout",
     "output_type": "stream",
     "text": [
      "(2, 9)\n"
     ]
    },
    {
     "data": {
      "text/html": [
       "<div>\n",
       "<style scoped>\n",
       "    .dataframe tbody tr th:only-of-type {\n",
       "        vertical-align: middle;\n",
       "    }\n",
       "\n",
       "    .dataframe tbody tr th {\n",
       "        vertical-align: top;\n",
       "    }\n",
       "\n",
       "    .dataframe thead th {\n",
       "        text-align: right;\n",
       "    }\n",
       "</style>\n",
       "<table border=\"1\" class=\"dataframe\">\n",
       "  <thead>\n",
       "    <tr style=\"text-align: right;\">\n",
       "      <th></th>\n",
       "      <th>session_id</th>\n",
       "      <th>player_name</th>\n",
       "      <th>server_address</th>\n",
       "      <th>server_name</th>\n",
       "      <th>current_map</th>\n",
       "      <th>score</th>\n",
       "      <th>duration</th>\n",
       "      <th>joined_at</th>\n",
       "      <th>left_at</th>\n",
       "    </tr>\n",
       "  </thead>\n",
       "  <tbody>\n",
       "    <tr>\n",
       "      <th>0</th>\n",
       "      <td>24</td>\n",
       "      <td>max</td>\n",
       "      <td>51.161.199.24:27025</td>\n",
       "      <td>jump.tf (Sydney) | All Maps #1 | Tempus Network</td>\n",
       "      <td>jump_diamant_rc5</td>\n",
       "      <td>0</td>\n",
       "      <td>00h 05m 09s</td>\n",
       "      <td>2023-11-08 16:39:25</td>\n",
       "      <td>2023-11-08 16:44:34</td>\n",
       "    </tr>\n",
       "    <tr>\n",
       "      <th>1</th>\n",
       "      <td>29</td>\n",
       "      <td>max</td>\n",
       "      <td>103.25.57.21:27015</td>\n",
       "      <td>Jump (Adelaide) | All Maps | Tempus Network</td>\n",
       "      <td>jump_m0nkey_a5</td>\n",
       "      <td>0</td>\n",
       "      <td>00h 00m 51s</td>\n",
       "      <td>2023-11-08 16:44:44</td>\n",
       "      <td>2023-11-08 16:45:35</td>\n",
       "    </tr>\n",
       "  </tbody>\n",
       "</table>\n",
       "</div>"
      ],
      "text/plain": [
       "   session_id player_name       server_address  \\\n",
       "0          24         max  51.161.199.24:27025   \n",
       "1          29         max   103.25.57.21:27015   \n",
       "\n",
       "                                       server_name       current_map  score  \\\n",
       "0  jump.tf (Sydney) | All Maps #1 | Tempus Network  jump_diamant_rc5      0   \n",
       "1      Jump (Adelaide) | All Maps | Tempus Network    jump_m0nkey_a5      0   \n",
       "\n",
       "      duration            joined_at              left_at  \n",
       "0  00h 05m 09s  2023-11-08 16:39:25  2023-11-08 16:44:34  \n",
       "1  00h 00m 51s  2023-11-08 16:44:44  2023-11-08 16:45:35  "
      ]
     },
     "execution_count": 24,
     "metadata": {},
     "output_type": "execute_result"
    }
   ],
   "source": [
    "#query recent sessions\n",
    "\n",
    "query = \"\"\"SELECT \n",
    "    s.session_id,\n",
    "    p.name AS player_name,\n",
    "    srv.address AS server_address,\n",
    "    ss.name AS server_name,\n",
    "    ss.current_map,\n",
    "    s.score,\n",
    "    s.duration,\n",
    "    s.joined_at,\n",
    "    s.left_at\n",
    "FROM sessions AS s\n",
    "JOIN players AS p ON s.player_id = p.player_id\n",
    "JOIN servers AS srv ON s.server_id = srv.server_id\n",
    "LEFT JOIN (\n",
    "    SELECT \n",
    "        ss_inner.server_id, \n",
    "        ss_inner.name, \n",
    "        ss_inner.current_map,\n",
    "        ss_inner.created_at AS latest_update\n",
    "    FROM server_settings AS ss_inner\n",
    "    WHERE ss_inner.created_at <= (SELECT MAX(ss_inner2.created_at)\n",
    "                                  FROM server_settings AS ss_inner2\n",
    "                                  WHERE ss_inner2.server_id = ss_inner.server_id)\n",
    "    GROUP BY ss_inner.server_id\n",
    ") AS ss ON srv.server_id = ss.server_id\n",
    "ORDER BY s.session_id;\n",
    "\"\"\"\n",
    "\n",
    "all_sessions = pd.read_sql_query(query, conn)\n",
    "all_sessions[\"duration\"] = all_sessions[\"duration\"].apply(format_duration)\n",
    "\n",
    "print(all_sessions.shape)\n",
    "\n",
    "all_sessions.tail()"
   ]
  },
  {
   "cell_type": "code",
   "execution_count": 27,
   "metadata": {},
   "outputs": [
    {
     "data": {
      "text/html": [
       "<div>\n",
       "<style scoped>\n",
       "    .dataframe tbody tr th:only-of-type {\n",
       "        vertical-align: middle;\n",
       "    }\n",
       "\n",
       "    .dataframe tbody tr th {\n",
       "        vertical-align: top;\n",
       "    }\n",
       "\n",
       "    .dataframe thead th {\n",
       "        text-align: right;\n",
       "    }\n",
       "</style>\n",
       "<table border=\"1\" class=\"dataframe\">\n",
       "  <thead>\n",
       "    <tr style=\"text-align: right;\">\n",
       "      <th></th>\n",
       "      <th>session_id</th>\n",
       "      <th>player_name</th>\n",
       "      <th>server_address</th>\n",
       "      <th>server_name</th>\n",
       "      <th>current_map</th>\n",
       "      <th>score</th>\n",
       "      <th>duration</th>\n",
       "      <th>joined_at</th>\n",
       "      <th>left_at</th>\n",
       "    </tr>\n",
       "  </thead>\n",
       "  <tbody>\n",
       "  </tbody>\n",
       "</table>\n",
       "</div>"
      ],
      "text/plain": [
       "Empty DataFrame\n",
       "Columns: [session_id, player_name, server_address, server_name, current_map, score, duration, joined_at, left_at]\n",
       "Index: []"
      ]
     },
     "execution_count": 27,
     "metadata": {},
     "output_type": "execute_result"
    }
   ],
   "source": [
    "#Sessions by player name\n",
    "player_name = 'Owlenstein™'\n",
    "query = f\"\"\"SELECT  s.session_id, p.name AS player_name, srv.address AS server_address, ss.name AS server_name, ss.current_map, s.score, s.duration, s.joined_at, s.left_at\n",
    "FROM sessions AS s\n",
    "JOIN players AS p ON s.player_id = p.player_id\n",
    "JOIN servers AS srv ON s.server_id = srv.server_id\n",
    "LEFT JOIN (\n",
    "    SELECT ss_inner.server_id, ss_inner.name, ss_inner.current_map,ss_inner.created_at AS latest_update\n",
    "    FROM server_settings AS ss_inner\n",
    "    WHERE ss_inner.created_at <= (SELECT MAX(ss_inner2.created_at)\n",
    "                                  FROM server_settings AS ss_inner2\n",
    "                                  WHERE ss_inner2.server_id = ss_inner.server_id)\n",
    "    GROUP BY ss_inner.server_id\n",
    ") AS ss ON srv.server_id = ss.server_id\n",
    "WHERE p.name = ?\n",
    "ORDER BY s.session_id;\n",
    "\"\"\"\n",
    "sessions_by_player = pd.read_sql_query(query, conn, params=[player_name])\n",
    "\n",
    "sessions_by_player[\"duration\"] = sessions_by_player[\"duration\"].apply(format_duration)\n",
    "\n",
    "sessions_by_player.head()"
   ]
  },
  {
   "cell_type": "code",
   "execution_count": 43,
   "metadata": {},
   "outputs": [
    {
     "name": "stdout",
     "output_type": "stream",
     "text": [
      "(779, 4)\n"
     ]
    },
    {
     "data": {
      "text/html": [
       "<div>\n",
       "<style scoped>\n",
       "    .dataframe tbody tr th:only-of-type {\n",
       "        vertical-align: middle;\n",
       "    }\n",
       "\n",
       "    .dataframe tbody tr th {\n",
       "        vertical-align: top;\n",
       "    }\n",
       "\n",
       "    .dataframe thead th {\n",
       "        text-align: right;\n",
       "    }\n",
       "</style>\n",
       "<table border=\"1\" class=\"dataframe\">\n",
       "  <thead>\n",
       "    <tr style=\"text-align: right;\">\n",
       "      <th></th>\n",
       "      <th>player_id</th>\n",
       "      <th>name</th>\n",
       "      <th>session_count</th>\n",
       "      <th>total_duration</th>\n",
       "    </tr>\n",
       "  </thead>\n",
       "  <tbody>\n",
       "    <tr>\n",
       "      <th>0</th>\n",
       "      <td>1</td>\n",
       "      <td>CrySomeMore</td>\n",
       "      <td>8</td>\n",
       "      <td>138h 53m 46s</td>\n",
       "    </tr>\n",
       "    <tr>\n",
       "      <th>1</th>\n",
       "      <td>2</td>\n",
       "      <td>Humans Are Weak</td>\n",
       "      <td>9</td>\n",
       "      <td>137h 16m 21s</td>\n",
       "    </tr>\n",
       "    <tr>\n",
       "      <th>2</th>\n",
       "      <td>3</td>\n",
       "      <td>C++</td>\n",
       "      <td>6</td>\n",
       "      <td>108h 14m 40s</td>\n",
       "    </tr>\n",
       "    <tr>\n",
       "      <th>3</th>\n",
       "      <td>4</td>\n",
       "      <td>Nobody</td>\n",
       "      <td>7</td>\n",
       "      <td>131h 58m 18s</td>\n",
       "    </tr>\n",
       "    <tr>\n",
       "      <th>4</th>\n",
       "      <td>5</td>\n",
       "      <td>RageQuit</td>\n",
       "      <td>9</td>\n",
       "      <td>146h 23m 07s</td>\n",
       "    </tr>\n",
       "  </tbody>\n",
       "</table>\n",
       "</div>"
      ],
      "text/plain": [
       "   player_id             name  session_count total_duration\n",
       "0          1      CrySomeMore              8   138h 53m 46s\n",
       "1          2  Humans Are Weak              9   137h 16m 21s\n",
       "2          3              C++              6   108h 14m 40s\n",
       "3          4           Nobody              7   131h 58m 18s\n",
       "4          5         RageQuit              9   146h 23m 07s"
      ]
     },
     "execution_count": 43,
     "metadata": {},
     "output_type": "execute_result"
    }
   ],
   "source": [
    "#query players total playtime and sessions\n",
    "\n",
    "query = \"\"\"SELECT p.player_id, p.name, COUNT(s.session_id) AS session_count, SUM(s.duration) AS total_duration FROM players p JOIN sessions s ON p.player_id = s.player_id GROUP BY p.player_id, p.name HAVING COUNT(s.session_id) > 1;\"\"\"\n",
    "session_count_by_player = pd.read_sql_query(query, conn)\n",
    "session_count_by_player[\"total_duration\"] = session_count_by_player[\"total_duration\"].apply(format_duration)\n",
    "\n",
    "print(session_count_by_player.shape)\n",
    "\n",
    "session_count_by_player.head()"
   ]
  },
  {
   "cell_type": "code",
   "execution_count": 46,
   "metadata": {},
   "outputs": [
    {
     "name": "stdout",
     "output_type": "stream",
     "text": [
      "(2, 7)\n"
     ]
    },
    {
     "data": {
      "text/html": [
       "<div>\n",
       "<style scoped>\n",
       "    .dataframe tbody tr th:only-of-type {\n",
       "        vertical-align: middle;\n",
       "    }\n",
       "\n",
       "    .dataframe tbody tr th {\n",
       "        vertical-align: top;\n",
       "    }\n",
       "\n",
       "    .dataframe thead th {\n",
       "        text-align: right;\n",
       "    }\n",
       "</style>\n",
       "<table border=\"1\" class=\"dataframe\">\n",
       "  <thead>\n",
       "    <tr style=\"text-align: right;\">\n",
       "      <th></th>\n",
       "      <th>event_id</th>\n",
       "      <th>server_id</th>\n",
       "      <th>player_id</th>\n",
       "      <th>event_type</th>\n",
       "      <th>created_at</th>\n",
       "      <th>server_name</th>\n",
       "      <th>server_address</th>\n",
       "    </tr>\n",
       "  </thead>\n",
       "  <tbody>\n",
       "    <tr>\n",
       "      <th>0</th>\n",
       "      <td>22455</td>\n",
       "      <td>3</td>\n",
       "      <td>399538</td>\n",
       "      <td>target join</td>\n",
       "      <td>2023-11-06 14:32:12</td>\n",
       "      <td>Uncletopia | Sydney | 2 | All Maps</td>\n",
       "      <td>51.161.198.97:27025</td>\n",
       "    </tr>\n",
       "    <tr>\n",
       "      <th>1</th>\n",
       "      <td>22663</td>\n",
       "      <td>3</td>\n",
       "      <td>399538</td>\n",
       "      <td>target join</td>\n",
       "      <td>2023-11-06 14:32:54</td>\n",
       "      <td>Uncletopia | Sydney | 2 | All Maps</td>\n",
       "      <td>51.161.198.97:27025</td>\n",
       "    </tr>\n",
       "  </tbody>\n",
       "</table>\n",
       "</div>"
      ],
      "text/plain": [
       "   event_id  server_id  player_id   event_type           created_at  \\\n",
       "0     22455          3     399538  target join  2023-11-06 14:32:12   \n",
       "1     22663          3     399538  target join  2023-11-06 14:32:54   \n",
       "\n",
       "                          server_name       server_address  \n",
       "0  Uncletopia | Sydney | 2 | All Maps  51.161.198.97:27025  \n",
       "1  Uncletopia | Sydney | 2 | All Maps  51.161.198.97:27025  "
      ]
     },
     "execution_count": 46,
     "metadata": {},
     "output_type": "execute_result"
    }
   ],
   "source": [
    "#query player events by name\n",
    "\n",
    "query = \"\"\"\n",
    "SELECT pe.*, s.name AS server_name, s.address AS server_address\n",
    "FROM player_events AS pe\n",
    "JOIN players AS p ON pe.player_id = p.player_id\n",
    "JOIN servers AS s ON pe.server_id = s.server_id\n",
    "WHERE p.name = 'elmaxo';\n",
    "\"\"\"\n",
    "events_by_name = pd.read_sql_query(query, conn)\n",
    "\n",
    "print(events_by_name.shape)\n",
    "\n",
    "events_by_name.head()"
   ]
  }
 ],
 "metadata": {
  "kernelspec": {
   "display_name": "Python 3",
   "language": "python",
   "name": "python3"
  },
  "language_info": {
   "codemirror_mode": {
    "name": "ipython",
    "version": 3
   },
   "file_extension": ".py",
   "mimetype": "text/x-python",
   "name": "python",
   "nbconvert_exporter": "python",
   "pygments_lexer": "ipython3",
   "version": "3.9.6"
  }
 },
 "nbformat": 4,
 "nbformat_minor": 2
}
